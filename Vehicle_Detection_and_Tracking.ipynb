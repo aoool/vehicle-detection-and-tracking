{
 "cells": [
  {
   "cell_type": "markdown",
   "metadata": {},
   "source": [
    "# Vehicle Detection and Tracking"
   ]
  },
  {
   "cell_type": "markdown",
   "metadata": {},
   "source": [
    "---\n",
    "**Author:** Sergey Morozov  \n",
    "\n",
    "---"
   ]
  },
  {
   "cell_type": "markdown",
   "metadata": {},
   "source": [
    "###### NOTICE\n",
    "\n",
    "Some of the functions below were provided by [Udacity](https://www.udacity.com/). Author modified some of them and added original code."
   ]
  },
  {
   "cell_type": "markdown",
   "metadata": {},
   "source": [
    "## Project Steps\n",
    "- Perform a Histogram of Oriented Gradients (HOG) feature extraction on a labeled training set of images and train a classifier Linear SVM classifier.\n",
    "- Apply a color transform and append binned color features, as well as histograms of color, to your HOG feature vector.\n",
    "- Implement a sliding-window technique and use your trained classifier to search for vehicles in images.\n",
    "- Run pipeline on a video stream and create a heat map of recurring detections frame by frame to reject outliers and follow detected vehicles.\n",
    "- Estimate a bounding box for vehicles detected."
   ]
  },
  {
   "cell_type": "markdown",
   "metadata": {},
   "source": [
    "### Training Data Extraction\n",
    "\n",
    "Archive with vehicle and non-vehicle images should be manually downloaded and placed in the root of this repository.\n",
    "- [vehicles.zip](https://yadi.sk/d/z55uKF-J3KNDgg)\n",
    "- [non-vehicles.zip](https://yadi.sk/d/-blY05xV3KNDnV)"
   ]
  },
  {
   "cell_type": "markdown",
   "metadata": {},
   "source": [
    "#### Extract Data"
   ]
  },
  {
   "cell_type": "code",
   "execution_count": null,
   "metadata": {},
   "outputs": [],
   "source": [
    "import os\n",
    "import zipfile\n",
    "import shutil\n",
    "\n",
    "if not (os.path.isdir(\"vehicle_images\")):\n",
    "    zip_ref = zipfile.ZipFile(\"vehicles.zip\", 'r')\n",
    "    zip_ref.extractall(\".\")\n",
    "    zip_ref.close()\n",
    "    shutil.move(\"vehicles\", \"vehicle_images\")\n",
    "    shutil.rmtree(\"__MACOSX\")\n",
    "        \n",
    "if not (os.path.isdir(\"non-vehicle_images\")):\n",
    "    zip_ref = zipfile.ZipFile(\"non-vehicles.zip\", 'r')\n",
    "    zip_ref.extractall(\".\")\n",
    "    zip_ref.close()\n",
    "    shutil.move(\"non-vehicles\", \"non-vehicle_images\")\n",
    "    shutil.rmtree(\"__MACOSX\")"
   ]
  }
 ],
 "metadata": {
  "kernelspec": {
   "display_name": "Python 3",
   "language": "python",
   "name": "python3"
  },
  "language_info": {
   "codemirror_mode": {
    "name": "ipython",
    "version": 3
   },
   "file_extension": ".py",
   "mimetype": "text/x-python",
   "name": "python",
   "nbconvert_exporter": "python",
   "pygments_lexer": "ipython3",
   "version": "3.5.2"
  },
  "widgets": {
   "state": {},
   "version": "1.1.2"
  }
 },
 "nbformat": 4,
 "nbformat_minor": 2
}
